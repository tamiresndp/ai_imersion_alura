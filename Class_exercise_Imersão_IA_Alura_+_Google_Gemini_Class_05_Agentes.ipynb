{
  "nbformat": 4,
  "nbformat_minor": 0,
  "metadata": {
    "colab": {
      "provenance": [],
      "include_colab_link": true
    },
    "kernelspec": {
      "name": "python3",
      "display_name": "Python 3"
    },
    "language_info": {
      "name": "python"
    }
  },
  "cells": [
    {
      "cell_type": "markdown",
      "metadata": {
        "id": "view-in-github",
        "colab_type": "text"
      },
      "source": [
        "<a href=\"https://colab.research.google.com/github/tamiresndp/ai_imersion_alura/blob/class_five/Class_exercise_Imers%C3%A3o_IA_Alura_%2B_Google_Gemini_Class_05_Agentes.ipynb\" target=\"_parent\"><img src=\"https://colab.research.google.com/assets/colab-badge.svg\" alt=\"Open In Colab\"/></a>"
      ]
    },
    {
      "cell_type": "code",
      "source": [
        "%pip -q install google-genai"
      ],
      "metadata": {
        "id": "UCCbECexLk_h"
      },
      "execution_count": 1,
      "outputs": []
    },
    {
      "cell_type": "code",
      "source": [
        "# Configura a API Key do Google Gemini\n",
        "\n",
        "import os\n",
        "from google.colab import userdata\n",
        "\n",
        "os.environ[\"GOOGLE_API_KEY\"] = userdata.get('GOOGLE_API_KEY')"
      ],
      "metadata": {
        "id": "NfCqHo1tLk8P"
      },
      "execution_count": 2,
      "outputs": []
    },
    {
      "cell_type": "code",
      "source": [
        "# Configura o cliente da SDK do Gemini\n",
        "\n",
        "from google import genai\n",
        "\n",
        "client = genai.Client()\n",
        "\n",
        "MODEL_ID = \"gemini-2.0-flash\""
      ],
      "metadata": {
        "id": "bV4w0H5TLk5g"
      },
      "execution_count": 3,
      "outputs": []
    },
    {
      "cell_type": "code",
      "source": [
        "# Pergunta ao Gemini uma informação mais recente que seu conhecimento\n",
        "\n",
        "from IPython.display import HTML, Markdown\n",
        "\n",
        "# Perguntar pro modelo quando é a próxima imersão de IA ###############################################\n",
        "resposta = client.models.generate_content(\n",
        "    model=MODEL_ID,\n",
        "    contents='Quando é a próxima Imersão IA com Google Gemini da Alura?',\n",
        ")\n",
        "\n",
        "\n",
        "# Exibe a resposta na tela\n",
        "display(Markdown(f\"Resposta:\\n {resposta.text}\"))"
      ],
      "metadata": {
        "id": "HwVP7Xi34Zuw",
        "colab": {
          "base_uri": "https://localhost:8080/",
          "height": 163
        },
        "outputId": "34a2b635-701b-4cd3-8417-9fc45e6be588"
      },
      "execution_count": 4,
      "outputs": [
        {
          "output_type": "display_data",
          "data": {
            "text/plain": [
              "<IPython.core.display.Markdown object>"
            ],
            "text/markdown": "Resposta:\n A Alura não tem uma data fixa para a próxima Imersão IA com Google Gemini. A melhor forma de saber quando a próxima edição será realizada é:\n\n*   **Acompanhar as redes sociais da Alura:** Fique de olho nos perfis da Alura no Instagram, LinkedIn, Twitter e Facebook. Eles costumam anunciar novos cursos e imersões por lá.\n*   **Verificar a página de imersões da Alura:** Visite a página de imersões no site da Alura e veja se há alguma programação futura.\n*   **Assinar a newsletter da Alura:** Ao se inscrever na newsletter, você receberá informações sobre os lançamentos e eventos da Alura diretamente no seu e-mail.\n\nAssim que a data da próxima Imersão IA com Google Gemini for definida, a Alura certamente divulgará em seus canais de comunicação."
          },
          "metadata": {}
        }
      ]
    },
    {
      "cell_type": "code",
      "source": [
        "# Pergunta ao Gemini uma informação utilizando a busca do Google como contexto\n",
        "\n",
        "response = client.models.generate_content(\n",
        "    model=MODEL_ID,\n",
        "    contents='Quando é a próxima Imersão IA com Google Gemini da Alura?',\n",
        "    config={\"tools\": [{\"google_search\":{}}]}\n",
        ")\n",
        "\n",
        "# Print the response\n",
        "display(Markdown(f\"Respose:\\n {response.text}\"))\n",
        "# print the searcch details\n",
        "print(f\"Busca realizada: {response.candidates[0].grounding_metadata.web_search_queries}\")\n",
        "# urls used for grounding\n",
        "print(f\"Páginas utilizadas na resposta: {', '.join([site.web.title for site in response.candidates[0].grounding_metadata.grounding_chunks])}\")\n",
        "print()\n",
        "display(HTML(response.candidates[0].grounding_metadata.search_entry_point.rendered_content))"
      ],
      "metadata": {
        "id": "yXaZd7iZ4ftw",
        "colab": {
          "base_uri": "https://localhost:8080/",
          "height": 165
        },
        "outputId": "7961e08d-64d4-45e2-fd1e-01e6a3e711a4"
      },
      "execution_count": 6,
      "outputs": [
        {
          "output_type": "display_data",
          "data": {
            "text/plain": [
              "<IPython.core.display.Markdown object>"
            ],
            "text/markdown": "Respose:\n A próxima Imersão IA com Google Gemini da Alura está programada para ocorrer entre os dias 12 e 16 de maio de 2025. As inscrições estão abertas até o dia 11 de maio de 2025."
          },
          "metadata": {}
        },
        {
          "output_type": "stream",
          "name": "stdout",
          "text": [
            "Busca realizada: ['Alura Imersão IA Google Gemini', 'Alura Imersão IA com Google Gemini próxima edição']\n",
            "Páginas utilizadas na resposta: thallesbenicio.com.br, tecmundo.com.br, alura.com.br\n",
            "\n"
          ]
        },
        {
          "output_type": "display_data",
          "data": {
            "text/plain": [
              "<IPython.core.display.HTML object>"
            ],
            "text/html": [
              "<style>\n",
              ".container {\n",
              "  align-items: center;\n",
              "  border-radius: 8px;\n",
              "  display: flex;\n",
              "  font-family: Google Sans, Roboto, sans-serif;\n",
              "  font-size: 14px;\n",
              "  line-height: 20px;\n",
              "  padding: 8px 12px;\n",
              "}\n",
              ".chip {\n",
              "  display: inline-block;\n",
              "  border: solid 1px;\n",
              "  border-radius: 16px;\n",
              "  min-width: 14px;\n",
              "  padding: 5px 16px;\n",
              "  text-align: center;\n",
              "  user-select: none;\n",
              "  margin: 0 8px;\n",
              "  -webkit-tap-highlight-color: transparent;\n",
              "}\n",
              ".carousel {\n",
              "  overflow: auto;\n",
              "  scrollbar-width: none;\n",
              "  white-space: nowrap;\n",
              "  margin-right: -12px;\n",
              "}\n",
              ".headline {\n",
              "  display: flex;\n",
              "  margin-right: 4px;\n",
              "}\n",
              ".gradient-container {\n",
              "  position: relative;\n",
              "}\n",
              ".gradient {\n",
              "  position: absolute;\n",
              "  transform: translate(3px, -9px);\n",
              "  height: 36px;\n",
              "  width: 9px;\n",
              "}\n",
              "@media (prefers-color-scheme: light) {\n",
              "  .container {\n",
              "    background-color: #fafafa;\n",
              "    box-shadow: 0 0 0 1px #0000000f;\n",
              "  }\n",
              "  .headline-label {\n",
              "    color: #1f1f1f;\n",
              "  }\n",
              "  .chip {\n",
              "    background-color: #ffffff;\n",
              "    border-color: #d2d2d2;\n",
              "    color: #5e5e5e;\n",
              "    text-decoration: none;\n",
              "  }\n",
              "  .chip:hover {\n",
              "    background-color: #f2f2f2;\n",
              "  }\n",
              "  .chip:focus {\n",
              "    background-color: #f2f2f2;\n",
              "  }\n",
              "  .chip:active {\n",
              "    background-color: #d8d8d8;\n",
              "    border-color: #b6b6b6;\n",
              "  }\n",
              "  .logo-dark {\n",
              "    display: none;\n",
              "  }\n",
              "  .gradient {\n",
              "    background: linear-gradient(90deg, #fafafa 15%, #fafafa00 100%);\n",
              "  }\n",
              "}\n",
              "@media (prefers-color-scheme: dark) {\n",
              "  .container {\n",
              "    background-color: #1f1f1f;\n",
              "    box-shadow: 0 0 0 1px #ffffff26;\n",
              "  }\n",
              "  .headline-label {\n",
              "    color: #fff;\n",
              "  }\n",
              "  .chip {\n",
              "    background-color: #2c2c2c;\n",
              "    border-color: #3c4043;\n",
              "    color: #fff;\n",
              "    text-decoration: none;\n",
              "  }\n",
              "  .chip:hover {\n",
              "    background-color: #353536;\n",
              "  }\n",
              "  .chip:focus {\n",
              "    background-color: #353536;\n",
              "  }\n",
              "  .chip:active {\n",
              "    background-color: #464849;\n",
              "    border-color: #53575b;\n",
              "  }\n",
              "  .logo-light {\n",
              "    display: none;\n",
              "  }\n",
              "  .gradient {\n",
              "    background: linear-gradient(90deg, #1f1f1f 15%, #1f1f1f00 100%);\n",
              "  }\n",
              "}\n",
              "</style>\n",
              "<div class=\"container\">\n",
              "  <div class=\"headline\">\n",
              "    <svg class=\"logo-light\" width=\"18\" height=\"18\" viewBox=\"9 9 35 35\" fill=\"none\" xmlns=\"http://www.w3.org/2000/svg\">\n",
              "      <path fill-rule=\"evenodd\" clip-rule=\"evenodd\" d=\"M42.8622 27.0064C42.8622 25.7839 42.7525 24.6084 42.5487 23.4799H26.3109V30.1568H35.5897C35.1821 32.3041 33.9596 34.1222 32.1258 35.3448V39.6864H37.7213C40.9814 36.677 42.8622 32.2571 42.8622 27.0064V27.0064Z\" fill=\"#4285F4\"/>\n",
              "      <path fill-rule=\"evenodd\" clip-rule=\"evenodd\" d=\"M26.3109 43.8555C30.9659 43.8555 34.8687 42.3195 37.7213 39.6863L32.1258 35.3447C30.5898 36.3792 28.6306 37.0061 26.3109 37.0061C21.8282 37.0061 18.0195 33.9811 16.6559 29.906H10.9194V34.3573C13.7563 39.9841 19.5712 43.8555 26.3109 43.8555V43.8555Z\" fill=\"#34A853\"/>\n",
              "      <path fill-rule=\"evenodd\" clip-rule=\"evenodd\" d=\"M16.6559 29.8904C16.3111 28.8559 16.1074 27.7588 16.1074 26.6146C16.1074 25.4704 16.3111 24.3733 16.6559 23.3388V18.8875H10.9194C9.74388 21.2072 9.06992 23.8247 9.06992 26.6146C9.06992 29.4045 9.74388 32.022 10.9194 34.3417L15.3864 30.8621L16.6559 29.8904V29.8904Z\" fill=\"#FBBC05\"/>\n",
              "      <path fill-rule=\"evenodd\" clip-rule=\"evenodd\" d=\"M26.3109 16.2386C28.85 16.2386 31.107 17.1164 32.9095 18.8091L37.8466 13.8719C34.853 11.082 30.9659 9.3736 26.3109 9.3736C19.5712 9.3736 13.7563 13.245 10.9194 18.8875L16.6559 23.3388C18.0195 19.2636 21.8282 16.2386 26.3109 16.2386V16.2386Z\" fill=\"#EA4335\"/>\n",
              "    </svg>\n",
              "    <svg class=\"logo-dark\" width=\"18\" height=\"18\" viewBox=\"0 0 48 48\" xmlns=\"http://www.w3.org/2000/svg\">\n",
              "      <circle cx=\"24\" cy=\"23\" fill=\"#FFF\" r=\"22\"/>\n",
              "      <path d=\"M33.76 34.26c2.75-2.56 4.49-6.37 4.49-11.26 0-.89-.08-1.84-.29-3H24.01v5.99h8.03c-.4 2.02-1.5 3.56-3.07 4.56v.75l3.91 2.97h.88z\" fill=\"#4285F4\"/>\n",
              "      <path d=\"M15.58 25.77A8.845 8.845 0 0 0 24 31.86c1.92 0 3.62-.46 4.97-1.31l4.79 3.71C31.14 36.7 27.65 38 24 38c-5.93 0-11.01-3.4-13.45-8.36l.17-1.01 4.06-2.85h.8z\" fill=\"#34A853\"/>\n",
              "      <path d=\"M15.59 20.21a8.864 8.864 0 0 0 0 5.58l-5.03 3.86c-.98-2-1.53-4.25-1.53-6.64 0-2.39.55-4.64 1.53-6.64l1-.22 3.81 2.98.22 1.08z\" fill=\"#FBBC05\"/>\n",
              "      <path d=\"M24 14.14c2.11 0 4.02.75 5.52 1.98l4.36-4.36C31.22 9.43 27.81 8 24 8c-5.93 0-11.01 3.4-13.45 8.36l5.03 3.85A8.86 8.86 0 0 1 24 14.14z\" fill=\"#EA4335\"/>\n",
              "    </svg>\n",
              "    <div class=\"gradient-container\"><div class=\"gradient\"></div></div>\n",
              "  </div>\n",
              "  <div class=\"carousel\">\n",
              "    <a class=\"chip\" href=\"https://vertexaisearch.cloud.google.com/grounding-api-redirect/AbF9wXFi__VOq9wGZ9bmBKua5twpStHbNxRYdBUxpy2kAYzbkzJoT5cW6cy-MMN417RVwceIBBzSDikkSWj5F2IDEGxmgB4Ga9_ji8gpyI8ye2ZnRNq0P_lUwZLFm6yf_7uQyp2N6ldjNLk5q8FzXGvBNGbXhWuW5RLE0Kav40umo3klmhK-2YgAKw1XkUI8M0GvXLw5SdJ8bjCELQDIb3cl0CkTn5vCWjNs\">Alura Imersão IA Google Gemini</a>\n",
              "    <a class=\"chip\" href=\"https://vertexaisearch.cloud.google.com/grounding-api-redirect/AbF9wXE32UT7pyzeBNpeSimaFf4Rbvps4DDwHe6Gu3HdNrVK-sDHTZduXvi8jyRpLQ9LkvmrFQWJNKnS9wm9Rc9C97diLazSQkRYwvGuWqu-9UmtF30ggd4aHY6drAmHqquFeyCcjad_0kc20PIfdmKEsh2jHsGn_mDGKDWtVrillcInRSigBjSQNt8ArzhdbJ0WmXcrPblnjaaPoi5FOvyp1ifBheG2-Dn6IJ4lO_vhGzoEyDQ5Buid1CgJQwnOYmkAhYokkdacEyV5y_k=\">Alura Imersão IA com Google Gemini próxima edição</a>\n",
              "  </div>\n",
              "</div>\n"
            ]
          },
          "metadata": {}
        }
      ]
    },
    {
      "cell_type": "code",
      "source": [
        "# Exibe a busca\n",
        "print(f\"Busca realizada: {response.candidates[0].grounding_metadata.web_search_queries}\")\n",
        "# Exibe as URLs nas quais ele se baseou\n",
        "print(f\"Páginas utilizadas na resposta: {', '.join([site.web.title for site in response.candidates[0].grounding_metadata.grounding_chunks])}\")\n",
        "print()\n",
        "display(HTML(response.candidates[0].grounding_metadata.search_entry_point.rendered_content))"
      ],
      "metadata": {
        "id": "xHSNlTd84heJ"
      },
      "execution_count": null,
      "outputs": []
    },
    {
      "cell_type": "code",
      "source": [
        "# Instalar Framework ADK de agentes do Google ################################################\n",
        "! pip  install -q google-adk\n"
      ],
      "metadata": {
        "id": "hvZ3UnPI4jhJ",
        "colab": {
          "base_uri": "https://localhost:8080/"
        },
        "outputId": "31544b7c-df44-45ac-efa8-9cbc532aa774"
      },
      "execution_count": 7,
      "outputs": [
        {
          "output_type": "stream",
          "name": "stdout",
          "text": [
            "\u001b[?25l   \u001b[90m━━━━━━━━━━━━━━━━━━━━━━━━━━━━━━━━━━━━━━━━\u001b[0m \u001b[32m0.0/1.2 MB\u001b[0m \u001b[31m?\u001b[0m eta \u001b[36m-:--:--\u001b[0m\r\u001b[2K   \u001b[90m━━━━━━━━━━━━━━━━━━━━━━━━━━━━━━━━━━━━━━━━\u001b[0m \u001b[32m1.2/1.2 MB\u001b[0m \u001b[31m52.4 MB/s\u001b[0m eta \u001b[36m0:00:00\u001b[0m\n",
            "\u001b[?25h\u001b[?25l   \u001b[90m━━━━━━━━━━━━━━━━━━━━━━━━━━━━━━━━━━━━━━━━\u001b[0m \u001b[32m0.0/232.1 kB\u001b[0m \u001b[31m?\u001b[0m eta \u001b[36m-:--:--\u001b[0m\r\u001b[2K   \u001b[90m━━━━━━━━━━━━━━━━━━━━━━━━━━━━━━━━━━━━━━━━\u001b[0m \u001b[32m232.1/232.1 kB\u001b[0m \u001b[31m20.4 MB/s\u001b[0m eta \u001b[36m0:00:00\u001b[0m\n",
            "\u001b[?25h\u001b[?25l   \u001b[90m━━━━━━━━━━━━━━━━━━━━━━━━━━━━━━━━━━━━━━━━\u001b[0m \u001b[32m0.0/95.2 kB\u001b[0m \u001b[31m?\u001b[0m eta \u001b[36m-:--:--\u001b[0m\r\u001b[2K   \u001b[90m━━━━━━━━━━━━━━━━━━━━━━━━━━━━━━━━━━━━━━━━\u001b[0m \u001b[32m95.2/95.2 kB\u001b[0m \u001b[31m8.3 MB/s\u001b[0m eta \u001b[36m0:00:00\u001b[0m\n",
            "\u001b[?25h\u001b[?25l   \u001b[90m━━━━━━━━━━━━━━━━━━━━━━━━━━━━━━━━━━━━━━━━\u001b[0m \u001b[32m0.0/217.1 kB\u001b[0m \u001b[31m?\u001b[0m eta \u001b[36m-:--:--\u001b[0m\r\u001b[2K   \u001b[90m━━━━━━━━━━━━━━━━━━━━━━━━━━━━━━━━━━━━━━━━\u001b[0m \u001b[32m217.1/217.1 kB\u001b[0m \u001b[31m18.7 MB/s\u001b[0m eta \u001b[36m0:00:00\u001b[0m\n",
            "\u001b[?25h\u001b[?25l   \u001b[90m━━━━━━━━━━━━━━━━━━━━━━━━━━━━━━━━━━━━━━━━\u001b[0m \u001b[32m0.0/334.1 kB\u001b[0m \u001b[31m?\u001b[0m eta \u001b[36m-:--:--\u001b[0m\r\u001b[2K   \u001b[90m━━━━━━━━━━━━━━━━━━━━━━━━━━━━━━━━━━━━━━━━\u001b[0m \u001b[32m334.1/334.1 kB\u001b[0m \u001b[31m28.8 MB/s\u001b[0m eta \u001b[36m0:00:00\u001b[0m\n",
            "\u001b[?25h\u001b[?25l   \u001b[90m━━━━━━━━━━━━━━━━━━━━━━━━━━━━━━━━━━━━━━━━\u001b[0m \u001b[32m0.0/125.1 kB\u001b[0m \u001b[31m?\u001b[0m eta \u001b[36m-:--:--\u001b[0m\r\u001b[2K   \u001b[90m━━━━━━━━━━━━━━━━━━━━━━━━━━━━━━━━━━━━━━━━\u001b[0m \u001b[32m125.1/125.1 kB\u001b[0m \u001b[31m12.2 MB/s\u001b[0m eta \u001b[36m0:00:00\u001b[0m\n",
            "\u001b[2K   \u001b[90m━━━━━━━━━━━━━━━━━━━━━━━━━━━━━━━━━━━━━━━━\u001b[0m \u001b[32m65.8/65.8 kB\u001b[0m \u001b[31m6.1 MB/s\u001b[0m eta \u001b[36m0:00:00\u001b[0m\n",
            "\u001b[2K   \u001b[90m━━━━━━━━━━━━━━━━━━━━━━━━━━━━━━━━━━━━━━━━\u001b[0m \u001b[32m119.0/119.0 kB\u001b[0m \u001b[31m12.1 MB/s\u001b[0m eta \u001b[36m0:00:00\u001b[0m\n",
            "\u001b[2K   \u001b[90m━━━━━━━━━━━━━━━━━━━━━━━━━━━━━━━━━━━━━━━━\u001b[0m \u001b[32m194.9/194.9 kB\u001b[0m \u001b[31m18.8 MB/s\u001b[0m eta \u001b[36m0:00:00\u001b[0m\n",
            "\u001b[2K   \u001b[90m━━━━━━━━━━━━━━━━━━━━━━━━━━━━━━━━━━━━━━━━\u001b[0m \u001b[32m62.5/62.5 kB\u001b[0m \u001b[31m6.7 MB/s\u001b[0m eta \u001b[36m0:00:00\u001b[0m\n",
            "\u001b[2K   \u001b[90m━━━━━━━━━━━━━━━━━━━━━━━━━━━━━━━━━━━━━━━━\u001b[0m \u001b[32m103.3/103.3 kB\u001b[0m \u001b[31m10.4 MB/s\u001b[0m eta \u001b[36m0:00:00\u001b[0m\n",
            "\u001b[2K   \u001b[90m━━━━━━━━━━━━━━━━━━━━━━━━━━━━━━━━━━━━━━━━\u001b[0m \u001b[32m44.4/44.4 kB\u001b[0m \u001b[31m4.2 MB/s\u001b[0m eta \u001b[36m0:00:00\u001b[0m\n",
            "\u001b[2K   \u001b[90m━━━━━━━━━━━━━━━━━━━━━━━━━━━━━━━━━━━━━━━━\u001b[0m \u001b[32m72.0/72.0 kB\u001b[0m \u001b[31m7.3 MB/s\u001b[0m eta \u001b[36m0:00:00\u001b[0m\n",
            "\u001b[?25h"
          ]
        }
      ]
    },
    {
      "cell_type": "code",
      "execution_count": 8,
      "metadata": {
        "id": "aePV2bdfDeoW"
      },
      "outputs": [],
      "source": [
        "from google.adk.agents import Agent\n",
        "from google.adk.runners import Runner\n",
        "from google.adk.sessions import InMemorySessionService\n",
        "from google.adk.tools import google_search\n",
        "from google.genai import types  # Para criar conteúdos (Content e Part)\n",
        "from datetime import date\n",
        "import textwrap # Para formatar melhor a saída de texto\n",
        "from IPython.display import display, Markdown # Para exibir texto formatado no Colab\n",
        "import requests # Para fazer requisições HTTP\n",
        "import warnings\n",
        "\n",
        "warnings.filterwarnings(\"ignore\")"
      ]
    },
    {
      "cell_type": "code",
      "source": [
        "# Função auxiliar que envia uma mensagem para um agente via Runner e retorna a resposta final\n",
        "def call_agent(agent: Agent, message_text: str) -> str:\n",
        "    # Cria um serviço de sessão em memória\n",
        "    session_service = InMemorySessionService()\n",
        "    # Cria uma nova sessão (você pode personalizar os IDs conforme necessário)\n",
        "    session = session_service.create_session(app_name=agent.name, user_id=\"user1\", session_id=\"session1\")\n",
        "    # Cria um Runner para o agente\n",
        "    runner = Runner(agent=agent, app_name=agent.name, session_service=session_service)\n",
        "    # Cria o conteúdo da mensagem de entrada\n",
        "    content = types.Content(role=\"user\", parts=[types.Part(text=message_text)])\n",
        "\n",
        "    final_response = \"\"\n",
        "    # Itera assincronamente pelos eventos retornados durante a execução do agente\n",
        "    for event in runner.run(user_id=\"user1\", session_id=\"session1\", new_message=content):\n",
        "        if event.is_final_response():\n",
        "          for part in event.content.parts:\n",
        "            if part.text is not None:\n",
        "              final_response += part.text\n",
        "              final_response += \"\\n\"\n",
        "    return final_response"
      ],
      "metadata": {
        "id": "_xP4lWhsS5ko"
      },
      "execution_count": 9,
      "outputs": []
    },
    {
      "cell_type": "code",
      "source": [
        "# Função auxiliar para exibir texto formatado em Markdown no Colab\n",
        "def to_markdown(text):\n",
        "  text = text.replace('•', '  *')\n",
        "  return Markdown(textwrap.indent(text, '> ', predicate=lambda _: True))"
      ],
      "metadata": {
        "id": "8dosiodaxfFR"
      },
      "execution_count": 10,
      "outputs": []
    },
    {
      "cell_type": "code",
      "source": [
        "##########################################\n",
        "# --- Agente 1: Buscador de Notícias --- #\n",
        "##########################################\n",
        "\n",
        "def agente_buscador(topico, data_de_hoje):\n",
        "    buscador = Agent(\n",
        "        name=\"agente_buscador\",\n",
        "        model=\"gemini-2.0-flash\",\n",
        "        description=\"Agente que busca notícias sobre o tópico indicado\",\n",
        "        tools=[google_search],\n",
        "        instruction=\"\"\"\"\n",
        "        Você é um assistente de pesquisa. A sua tarefa é usar a ferramenta de bnusca do google (google_search)\n",
        "        para recuperar as últimas notícias de lançamentos muito relevantes sobre o tópico abaixo.\n",
        "        Foque em no máximo 5 lançamentos relevantes, com base na quantidade e entusiasmo das notícias sobre ele.\n",
        "        Se um tema tiver poucas notícias ou reações entusiamadas, é possível que ele não seja tão relevante assim\n",
        "        e pode ser substituído por outro que tenha mais.\n",
        "        Esses lançamentos relevantes devem ser atuais, de no máximo um mês antes da data de hoje.\n",
        "        \"\"\"\n",
        "\n",
        "    )\n",
        "    entrada_do_agente_buscador = f\"Tópico: {topico}\\nData de hoje: {data_de_hoje}\"\n",
        "    lancamentos_buscados = call_agent(buscador, entrada_do_agente_buscador)\n",
        "    return lancamentos_buscados\n",
        "    # Executa o agente"
      ],
      "metadata": {
        "id": "o8bqIfi_DyH8"
      },
      "execution_count": 12,
      "outputs": []
    },
    {
      "cell_type": "code",
      "source": [
        "################################################\n",
        "# --- Agente 2: Planejador de posts --- #\n",
        "################################################\n",
        "def agente_planejador(topico, lancamentos_buscados):\n",
        "    planejador = Agent(\n",
        "        name=\"agente_planejador\",\n",
        "        model=\"gemini-2.0-flash\",\n",
        "        # Inserir as instruções do Agente Planejador #################################################\n",
        "        instruction=\"\"\"\n",
        "        Você é um planejador de conteúdo, especialista em redes sociais. Com base na lista de lançamentos mais recentes e relevantes buscados, você deve:\n",
        "        usar a ferramenta de busca do Google (google_search) para criar um plano sobre quais são os pontos mais relevantes que poderíamos abordar em um post sobre\n",
        "        cada um deles. Você também podse usar o (google_search) para encontrar mais informações sobre os temas e aprofundar.\n",
        "        Ao final, você irá escolher o tema mais relevante entre eles com base nas suas pesquisas\n",
        "        e retornar esse tema, seus pontos mais relevantes, e um plano com os assuntos a serem abordados no post que será escrito posteriormente.\n",
        "        \"\"\",\n",
        "        description=\"Agente que planeja posts\",\n",
        "        tools=[google_search]\n",
        "    )\n",
        "\n",
        "    entrada_do_agente_planejador = f\"Tópico:{topico}\\nLançamentos buscados: {lancamentos_buscados}\"\n",
        "    # Executa o agente\n",
        "    plano_do_post = call_agent(planejador, entrada_do_agente_planejador)\n",
        "    return plano_do_post"
      ],
      "metadata": {
        "id": "y3VO1uo5_ghO"
      },
      "execution_count": 22,
      "outputs": []
    },
    {
      "cell_type": "code",
      "source": [
        "######################################\n",
        "# --- Agente 3: Redator do Post --- #\n",
        "######################################\n",
        "def agente_redator(topico, plano_de_post):\n",
        "    redator = Agent(\n",
        "        name=\"agente_redator\",\n",
        "        model=\"gemini-2.5-pro-preview-03-25\",\n",
        "        instruction=\"\"\"\n",
        "            Você é um Redator Criativo especializado em criar posts virais para redes sociais.\n",
        "            Você escreve posts para a empresa Alura, a maior escola online de tecnologia do Brasil.\n",
        "            Utilize o tema fornecido no plano de post e os pontos mais relevantes fornecidos e, com base nisso,\n",
        "            escreva um rascunho de post para Instagram sobre o tema indicado.\n",
        "            O post deve ser engajador, informativo, com linguagem simples e incluir 2 a 4 hashtags no final.\n",
        "            \"\"\",\n",
        "        description=\"Agente redator de posts engajadores para Instagram\"\n",
        "    )\n",
        "    entrada_do_agente_redator = f\"Tópico: {topico}\\nPlano de post: {plano_de_post}\"\n",
        "    # Executa o agente\n",
        "    rascunho = call_agent(redator, entrada_do_agente_redator)\n",
        "    return rascunho"
      ],
      "metadata": {
        "id": "uOqlg2TRLVh1"
      },
      "execution_count": 23,
      "outputs": []
    },
    {
      "cell_type": "code",
      "source": [
        "##########################################\n",
        "# --- Agente 4: Revisor de Qualidade --- #\n",
        "##########################################\n",
        "def agente_revisor(topico, rascunho_gerado):\n",
        "    revisor = Agent(\n",
        "        name=\"agente_revisor\",\n",
        "        model=\"gemini-2.5-pro-preview-03-25\",\n",
        "        instruction=\"\"\"\n",
        "            Você é um Editor e Revisor de Conteúdo meticuloso, especializado em posts para redes sociais, com foco no Instagram.\n",
        "            Por ter um público jovem, entre 18 e 30 anos, use um tom de escrita adequado.\n",
        "            Revise o rascunho de post de Instagram abaixo sobre o tópico indicado, verificando clareza, concisão, correção e tom.\n",
        "            Se o rascunho estiver bom, responda apenas 'O rascunho está ótimo e pronto para publicar!'.\n",
        "            Caso haja problemas, aponte-os e sugira melhorias.\n",
        "            \"\"\",\n",
        "        description=\"Agente revisor de post para redes sociais.\"\n",
        "    )\n",
        "    entrada_do_agente_revisor = f\"Tópico: {topico}\\nRascunho: {rascunho_gerado}\"\n",
        "    # Executa o agente\n",
        "    texto_revisado = call_agent(revisor, entrada_do_agente_revisor)\n",
        "    return texto_revisado"
      ],
      "metadata": {
        "id": "_aTb1SdkLeT6"
      },
      "execution_count": 24,
      "outputs": []
    },
    {
      "cell_type": "code",
      "source": [
        "data_de_hoje = date.today().strftime(\"%d/%m/%Y\")\n",
        "\n",
        "print(\"🚀 Iniciando o Sistema de Criação de Posts para Instagram com 4 Agentes 🚀\")\n",
        "\n",
        "# --- Obter o Tópico do Usuário ---\n",
        "topico = input(\"❓ Por favor, digite o TÓPICO sobre o qual você quer criar o post de tendências: \")\n",
        "\n",
        "# Inserir lógica do sistema de agentes ################################################\n",
        "\n",
        "if not topico:\n",
        "  print(\"⚠️ Por favor, insira um tópico válido.\")\n",
        "else:\n",
        "  print(f\"Maravilha! Vamos então criar o post sobre o post novidadees em {topico}\")\n",
        "  lacamentos_buscados = agente_buscador(topico, data_de_hoje)\n",
        "  print(\"\\n--- Rseultados do Agente 1 (buscador) ---\\n\")\n",
        "  display(to_markdown(lacamentos_buscados))\n",
        "  print(\"------------------------------------------------------------------------------\")\n",
        "\n",
        "  plano_de_post = agente_planejador(topico, lacamentos_buscados)\n",
        "  print(\"\\n--- Rseultados do Agente 2 (planejador) ---\\n\")\n",
        "  display(to_markdown(plano_de_post))\n",
        "\n",
        "  rascunho_gerado = agente_redator(topico, plano_de_post)\n",
        "  print(\"\\n--- Rseultados do Agente 3 (redator) ---\\n\")\n",
        "  display(to_markdown(rascunho_gerado))\n",
        "\n",
        "  texto_revisado = agente_revisor(topico, rascunho_gerado)\n",
        "  print(\"\\n--- Rseultados do Agente 4 (revisor) ---\\n\")\n",
        "  display(to_markdown(texto_revisado))\n",
        "\n",
        ""
      ],
      "metadata": {
        "id": "630ummxz4myx",
        "colab": {
          "base_uri": "https://localhost:8080/",
          "height": 1000
        },
        "outputId": "d9cd8442-c77f-4178-9ed3-f6f213fabc6e"
      },
      "execution_count": 27,
      "outputs": [
        {
          "output_type": "stream",
          "name": "stdout",
          "text": [
            "🚀 Iniciando o Sistema de Criação de Posts para Instagram com 4 Agentes 🚀\n",
            "❓ Por favor, digite o TÓPICO sobre o qual você quer criar o post de tendências: agentes de IA\n",
            "Maravilha! Vamos então criar o post sobre o post novidadees em agentes de IA\n",
            "\n",
            "--- Rseultados do Agente 1 (buscador) ---\n",
            "\n"
          ]
        },
        {
          "output_type": "display_data",
          "data": {
            "text/plain": [
              "<IPython.core.display.Markdown object>"
            ],
            "text/markdown": "> Ok, aqui estão algumas pesquisas que posso fazer para encontrar notícias sobre lançamentos recentes e relevantes de agentes de IA:\n> \n> \n> Com certeza! Aqui estão 5 lançamentos relevantes no mundo dos agentes de IA nos últimos meses, com base nas notícias e no entusiasmo gerado:\n> \n> 1.  **Microsoft Build 2025 e a \"Era dos Agentes de IA\":** A Microsoft está fortemente investindo em agentes de IA, com anúncios significativos durante o evento Build 2025. Isso inclui a integração do modelo Grok 3 da xAI ao Azure AI Foundry, permitindo que desenvolvedores construam agentes inteligentes. A Microsoft também está trabalhando em padrões para que agentes de IA de diferentes empresas possam colaborar. (Fontes: \\[2], \\[3], \\[7])\n> 2.  **GitHub Copilot com Agente de IA:** O GitHub, também da Microsoft, lançou um agente de IA integrado ao Copilot. Esse agente pode escrever, corrigir e melhorar o código automaticamente, marcando um passo em direção a \"desenvolvedores low-code\". (Fonte: \\[5])\n> 3.  **NVIDIA Llama Nemotron:** A NVIDIA lançou uma família de modelos abertos de IA com capacidade de raciocínio (Llama Nemotron) para desenvolvedores e empresas criarem plataformas de agentes de IA. Accenture, Microsoft, SAP e ServiceNow estão entre as empresas que estão colaborando com a NVIDIA nesses novos modelos. (Fonte: \\[15])\n> 4.  **B3 adota agentes de IA:** A B3 (a bolsa de valores brasileira) anunciou que vai massificar o uso de agentes de IA em seus produtos e serviços. Um exemplo é o Digital Coach, que monitora as centrais de atendimento e analisa as ligações para melhorar os processos. (Fontes: \\[9], \\[14])\n> 5.  **Microsoft Edge e Outlook com Agentes de IA:** O Microsoft Edge e o Outlook estão recebendo novos recursos de IA. No Edge, as novas APIs de IA permitem traduzir PDFs diretamente no navegador. No Outlook, os agentes de IA auxiliam na leitura de e-mails. (Fonte: \\[12])\n> \n> Além desses lançamentos específicos, vale ressaltar algumas tendências mais gerais:\n> \n> *   **Agentes de IA para vendas:** Várias ferramentas estão surgindo para automatizar e aprimorar os processos de vendas, como Clay, Droxy, Relevance AI e Lindy. (Fonte: \\[4])\n> *   **Plataformas para criação de agentes de IA:** Plataformas como Copilot Studio e Chatsimple AI estão facilitando a criação de agentes de IA personalizados. (Fontes: \\[6], \\[17])\n> *   **Agentes de IA com múltiplas personalidades:** A startup Simular AI criou um agente de IA chamado S2 que pode alternar entre diferentes personalidades. (Fonte: \\[22])\n> \n> Espero que esta informação seja útil!\n> \n"
          },
          "metadata": {}
        },
        {
          "output_type": "stream",
          "name": "stdout",
          "text": [
            "------------------------------------------------------------------------------\n",
            "\n",
            "--- Rseultados do Agente 2 (planejador) ---\n",
            "\n"
          ]
        },
        {
          "output_type": "display_data",
          "data": {
            "text/plain": [
              "<IPython.core.display.Markdown object>"
            ],
            "text/markdown": "> Ok, com base nos lançamentos de agentes de IA que você forneceu, vou criar um plano de conteúdo detalhado para cada um deles, identificando os pontos mais relevantes para abordar em um post em redes sociais.\n> \n> **1. Microsoft Build 2025 e a \"Era dos Agentes de IA\"**\n> \n> *   **Pontos Relevantes:**\n>     *   Investimento maciço da Microsoft em agentes de IA.\n>     *   Integração do Grok 3 da xAI ao Azure AI Foundry.\n>     *   Padrões para colaboração entre agentes de IA de diferentes empresas.\n> *   **Plano de Conteúdo:**\n>     *   **Título:** Microsoft Build 2025: A Era dos Agentes de IA Chegou!\n>     *   **Introdução:** Destaque o compromisso da Microsoft com a IA e como o Build 2025 marca um ponto de inflexão.\n>     *   **Grok 3 no Azure:** Explique o que é o Grok 3 e como os desenvolvedores podem usá-lo no Azure AI Foundry para criar agentes inteligentes.\n>     *   **Colaboração entre Agentes:** Detalhe a importância de padronizar a comunicação entre agentes de IA para um ecossistema mais eficiente.\n>     *   **Chamada para Ação:** Incentive os desenvolvedores a explorar o Azure AI Foundry e começar a construir seus próprios agentes de IA.\n> \n> **2. GitHub Copilot com Agente de IA**\n> \n> *   **Pontos Relevantes:**\n>     *   Agente de IA integrado ao GitHub Copilot.\n>     *   Capacidade de escrever, corrigir e melhorar o código automaticamente.\n>     *   Avanço em direção ao \"desenvolvimento low-code\".\n> *   **Plano de Conteúdo:**\n>     *   **Título:** GitHub Copilot Turbinado com Agente de IA: O Futuro do Desenvolvimento Low-Code!\n>     *   **Introdução:** Anuncie o novo agente de IA do GitHub Copilot e sua capacidade de automatizar tarefas de codificação.\n>     *   **Funcionalidades:** Demonstre como o agente pode escrever, corrigir e otimizar o código, economizando tempo e esforço dos desenvolvedores.\n>     *   **Desenvolvimento Low-Code:** Explique como esse agente de IA contribui para a tendência de desenvolvimento com pouco código, tornando a programação mais acessível.\n>     *   **Chamada para Ação:** Peça aos desenvolvedores para experimentar o novo agente do GitHub Copilot e compartilhar suas experiências.\n> \n> **3. NVIDIA Llama Nemotron**\n> \n> *   **Pontos Relevantes:**\n>     *   Família de modelos abertos de IA com capacidade de raciocínio.\n>     *   Foco em permitir que desenvolvedores e empresas criem plataformas de agentes de IA.\n>     *   Colaboração com grandes empresas como Accenture, Microsoft, SAP e ServiceNow.\n> *   **Plano de Conteúdo:**\n>     *   **Título:** NVIDIA Llama Nemotron: A Base para a Próxima Geração de Agentes de IA!\n>     *   **Introdução:** Apresente o Llama Nemotron como uma ferramenta poderosa para criar agentes de IA com capacidade de raciocínio.\n>     *   **Modelos Abertos:** Destaque a importância de modelos abertos para fomentar a inovação e a personalização.\n>     *   **Casos de Uso:** Descreva como empresas como Accenture, Microsoft, SAP e ServiceNow estão usando o Llama Nemotron para construir soluções de IA.\n>     *   **Chamada para Ação:** Convide desenvolvedores e empresas a explorar o Llama Nemotron e descobrir seu potencial.\n> \n> **4. B3 adota agentes de IA**\n> \n> *   **Pontos Relevantes:**\n>     *   A B3 está massificando o uso de agentes de IA em seus produtos e serviços.\n>     *   Exemplo do Digital Coach para monitorar e melhorar o atendimento ao cliente.\n> *   **Plano de Conteúdo:**\n>     *   **Título:** B3 Acelera a Adoção de Agentes de IA para Transformar o Mercado Financeiro!\n>     *   **Introdução:** Explique como a B3 está utilizando agentes de IA para otimizar suas operações e melhorar a experiência do cliente.\n>     *   **Digital Coach:** Detalhe como o Digital Coach monitora as centrais de atendimento e usa a análise de dados para aprimorar os processos.\n>     *   **Impacto no Mercado:** Discuta como a adoção de IA pela B3 pode influenciar outras empresas do setor financeiro.\n>     *   **Chamada para Ação:** Incentive outras empresas a explorar o potencial dos agentes de IA para melhorar seus serviços.\n> \n> **5. Microsoft Edge e Outlook com Agentes de IA**\n> \n> *   **Pontos Relevantes:**\n>     *   Novos recursos de IA no Edge e no Outlook.\n>     *   Tradução de PDFs no Edge.\n>     *   Assistência na leitura de e-mails no Outlook.\n> *   **Plano de Conteúdo:**\n>     *   **Título:** Microsoft Edge e Outlook Ficando Mais Inteligentes com Novos Agentes de IA!\n>     *   **Introdução:** Anuncie as novas funcionalidades de IA no Edge e no Outlook.\n>     *   **Edge:** Demonstre como a tradução de PDFs no navegador se tornou mais fácil e eficiente.\n>     *   **Outlook:** Explique como os agentes de IA estão auxiliando na leitura e organização de e-mails.\n>     *   **Benefícios para o Usuário:** Destaque como esses recursos de IA podem aumentar a produtividade e a eficiência.\n>     *   **Chamada para Ação:** Peça aos usuários para experimentar os novos recursos e compartilhar suas opiniões.\n> \n> **Escolha do Tema Mais Relevante e Plano Detalhado**\n> \n> Considerando a abrangência e o impacto potencial, o tema mais relevante para um post é:\n> \n> **Microsoft Build 2025 e a \"Era dos Agentes de IA\"**\n> \n> *   **Justificativa:** A Microsoft está fazendo um grande investimento em agentes de IA, o que pode ter um impacto significativo no futuro da tecnologia. Além disso, a colaboração entre agentes de IA de diferentes empresas é um tópico importante e interessante para o público.\n> \n> **Plano Detalhado para o Post:**\n> \n> 1.  **Título:** Microsoft Build 2025: A Era dos Agentes de IA Chegou! Prepare-se para a revolução!\n> 2.  **Introdução (2-3 frases):**\n>     *   A Microsoft está apostando alto em agentes de IA.\n>     *   O Build 2025 foi um marco para essa nova era.\n>     *   Agentes de IA prometem transformar a forma como interagimos com a tecnologia.\n> 3.  **O Que São Agentes de IA? (2-3 frases):**\n>     *   Defina o que são agentes de IA de forma clara e concisa.\n>     *   Explique como eles se diferenciam de outros tipos de IA.\n>     *   Dê exemplos de como eles podem ser usados no dia a dia.\n> 4.  **Grok 3 no Azure AI Foundry (3-4 frases):**\n>     *   Apresente o Grok 3 como um dos modelos de IA mais avançados da atualidade.\n>     *   Explique como os desenvolvedores podem usá-lo no Azure AI Foundry.\n>     *   Destaque os benefícios de usar o Grok 3 para criar agentes inteligentes.\n> 5.  **Colaboração entre Agentes (3-4 frases):**\n>     *   Explique a importância de padronizar a comunicação entre agentes de IA.\n>     *   Destaque os esforços da Microsoft para criar padrões abertos.\n>     *   Discuta os benefícios de um ecossistema de agentes de IA colaborativo.\n> 6.  **Impacto e Futuro (2-3 frases):**\n>     *   Discuta o impacto potencial dos agentes de IA em diversos setores.\n>     *   Faça uma previsão sobre o futuro dos agentes de IA.\n>     *   Incentive os leitores a se prepararem para essa nova era.\n> 7.  **Chamada para Ação (1 frase):**\n>     *   Explore o Azure AI Foundry e comece a construir seus próprios agentes de IA!\n> 8.  **Hashtags:**\n>     *   #AgentesDeIA #InteligenciaArtificial #MicrosoftBuild #AzureAIFoundry #Grok3 #Inovacao #Tecnologia\n> \n> **Próximos Passos:**\n> \n> 1.  **Pesquisa Adicional:** Faça uma pesquisa mais aprofundada sobre o Grok 3 e o Azure AI Foundry para obter mais informações detalhadas.\n> 2.  **Imagens/Vídeos:** Encontre imagens ou vídeos relevantes do Build 2025 para ilustrar o post.\n> 3.  **Rascunho do Post:** Escreva um rascunho completo do post com base no plano detalhado.\n> 4.  **Revisão:** Revise o rascunho para garantir clareza, precisão e engajamento.\n> 5.  **Publicação:** Publique o post na sua rede social preferida.\n> \n> Com este plano detalhado, você estará pronto para criar um post de mídia social envolvente e informativo sobre a \"Era dos Agentes de IA\" da Microsoft.\n> \n"
          },
          "metadata": {}
        },
        {
          "output_type": "stream",
          "name": "stdout",
          "text": [
            "\n",
            "--- Rseultados do Agente 3 (redator) ---\n",
            "\n"
          ]
        },
        {
          "output_type": "display_data",
          "data": {
            "text/plain": [
              "<IPython.core.display.Markdown object>"
            ],
            "text/markdown": "> Ok, entendi! Com base no plano detalhado para \"Microsoft Build 2025 e a 'Era dos Agentes de IA'\", aqui está um rascunho de post para o Instagram da Alura:\n> \n> ---\n> \n> ✨ **A ERA DOS AGENTES DE IA CHEGOU!** 🚀 O Microsoft Build 2025 deu o recado e a gente te conta TUDO!\n> \n> A Microsoft está apostando alto nos Agentes de IA, e o evento deste ano foi um verdadeiro divisor de águas. Prepare-se, porque eles vão transformar a maneira como a gente interage com a tecnologia! 🤯\n> \n> **Mas afinal, o que são esses Agentes de IA?** 🤔\n> Pense neles como assistentes ultra-inteligentes 🤖 capazes de entender, raciocinar e agir de forma autônoma para realizar tarefas complexas. Eles vão muito além dos chatbots que já conhecemos, aprendendo e se adaptando para nos ajudar de formas cada vez mais personalizadas e eficientes!\n> \n> **E tem novidade QUENTE na área!** 🔥\n> A Microsoft anunciou a integração do **Grok 3** (um dos modelos de IA mais avançados!) ao **Azure AI Foundry**. Isso significa que pessoas desenvolvedoras terão acesso a ferramentas poderosíssimas para criar seus próprios agentes inteligentes. As possibilidades são GIGANTES! 💡\n> \n> **Colaboração é a chave!** 🤝\n> Outro ponto ALTO foi o foco em padrões para que agentes de IA de diferentes empresas consigam \"conversar\" entre si. Já imaginou um ecossistema onde diferentes IAs colaboram para resolver problemas ainda maiores? Isso está cada vez mais perto!\n> \n> O impacto? Imensurável! Os agentes de IA prometem revolucionar indústrias, otimizar processos e abrir portas para inovações que nem conseguimos imaginar ainda. O futuro é AGORA! ⚡\n> \n> Quer estar na vanguarda dessa transformação e dominar as tecnologias que estão moldando o amanhã? A Alura te prepara!\n> \n> Curtiu a novidade? Conta pra gente o que você mais espera dessa nova era! 👇\n> \n> #AgentesDeIA #InteligenciaArtificial #MicrosoftBuild #Tecnologia\n"
          },
          "metadata": {}
        },
        {
          "output_type": "stream",
          "name": "stdout",
          "text": [
            "\n",
            "--- Rseultados do Agente 4 (revisor) ---\n",
            "\n"
          ]
        },
        {
          "output_type": "display_data",
          "data": {
            "text/plain": [
              "<IPython.core.display.Markdown object>"
            ],
            "text/markdown": "> Opa! O rascunho tem um ótimo ponto de partida, especialmente no tom e na estrutura! O uso de emojis e a linguagem são super adequados para o público jovem. 🤘\n> \n> Porém, identifiquei alguns pontos que precisam de ajuste para garantir a precisão e clareza:\n> \n> 1.  **Ano do Evento e Tempo Verbal:**\n>     *   **Problema:** O rascunho menciona \"Microsoft Build 2025\" e ao mesmo tempo diz \"A ERA... CHEGOU!\" e \"o evento deste ano\". Se o evento é de 2025, ele ainda não aconteceu, o que entra em conflito com a ideia de que as novidades já foram anunciadas e a era \"chegou\".\n>     *   **Sugestão:**\n>         *   Se a intenção é falar sobre o evento mais recente, o ideal seria usar \"o recente Microsoft Build\" ou o ano correto do último evento (ex: \"Microsoft Build 2024\", se for o caso).\n>         *   Se a intenção é *especular* sobre um futuro Build 2025, o tom do post precisaria mudar para algo como \"O que esperar do Microsoft Build 2025?\" ou \"A Microsoft sinaliza para um futuro com Agentes de IA no Build 2025\".\n>         *   **Recomendação:** Para manter o tom de \"novidade quente\", sugiro focar no evento mais recente. Ex: \"**A ERA DOS AGENTES DE IA CHEGOU!** 🚀 O recente Microsoft Build deu o recado e a gente te conta TUDO!\"\n> \n> 2.  **Integração do Grok 3 ao Azure AI Foundry:**\n>     *   **Problema:** A informação de que a Microsoft anunciou a integração do Grok 3 (modelo da xAI, de Elon Musk) ao Azure AI Foundry no Microsoft Build precisa ser **cuidadosamente verificada**. A Microsoft tem uma parceria muito forte com a OpenAI (ChatGPT, GPT-4, etc.) e geralmente destaca os modelos da OpenAI em seus anúncios para o Azure AI. Embora o Azure AI Studio possa permitir a integração de modelos de terceiros, o destaque para o Grok 3 como um anúncio principal da Microsoft no *seu* evento é incomum e pode ser impreciso.\n>     *   **Sugestão:**\n>         *   **Verifique a fonte dessa informação.** É crucial que os dados sejam precisos.\n>         *   Se confirmado, ótimo! Mantenha.\n>         *   Se não for uma informação central do evento ou se for imprecisa, sugiro substituir por um anúncio confirmado da Microsoft sobre IA no Build. Por exemplo, focar em novos recursos do Copilot, novas versões de modelos da OpenAI no Azure, ou outras ferramentas específicas para desenvolvedores de IA anunciadas pela Microsoft.\n>         *   Exemplo de substituição (caso Grok 3 não seja o foco): \"A Microsoft turbinou o **Azure AI Studio** com novos modelos e ferramentas para que pessoas desenvolvedoras criem seus próprios agentes inteligentes. As possibilidades são GIGANTES! 💡\" (Ajuste conforme o anúncio real).\n> \n> 3.  **Concisão (Ponto Menor):**\n>     *   **Problema:** O post está um pouco longo, especialmente para o Instagram, onde a atenção é mais disputada.\n>     *   **Sugestão:** Após corrigir os pontos factuais, revise se alguma frase pode ser encurtada sem perder o sentido. No entanto, a explicação sobre \"o que são Agentes de IA\" está boa e clara, então não a sacrifique demais. Talvez a introdução ou a conclusão possam ser um pouco mais diretas.\n> \n> **Exemplo de como ficaria com algumas sugestões aplicadas (assumindo que o evento é recente e o foco não é o Grok 3, mas sim em ferramentas gerais):**\n> \n> ✨ **A ERA DOS AGENTES DE IA CHEGOU!** 🚀 O recente Microsoft Build deu o recado e a gente te conta TUDO!\n> \n> A Microsoft tá com tudo nos Agentes de IA, e o evento foi um marco! Prepara o print, porque eles vão revolucionar nosso jeito de usar a tecnologia! 🤯\n> \n> **Mas sussa, o que são esses Agentes de IA?** 🤔\n> Pensa neles como seus parças ultra-inteligentes 🤖: entendem, pensam e agem sozinhos pra resolver paradas complexas. Vão muito além dos chatbots que já manjam, aprendendo e se adaptando pra te ajudar de um jeito cada vez mais seu e eficiente!\n> \n> **E tem novidade QUENTE na área!** 🔥\n> A Microsoft turbinou o **Azure AI Studio** com novas ferramentas e modelos poderosíssimos! Isso quer dizer que devs vão ter o arsenal completo pra criar seus próprios agentes inteligentes. As possibilidades são IMENSAS! 💡\n> \n> **Collab é a chave!** 🤝\n> Outro ponto ALTO foi o foco em padrões pra que agentes de IA de diferentes empresas consigam \"trocar ideia\". Já pensou um ecossistema onde várias IAs se juntam pra resolver desafios gigantes? Tá cada vez mais perto!\n> \n> O impacto? Gigantesco! Os agentes de IA vão virar o jogo nas indústrias, otimizar processos e abrir portas pra inovações que a gente nem sonha ainda. O futuro é AGORA! ⚡\n> \n> Quer estar na frente dessa transformação e dominar as techs que tão moldando o amanhã? A Alura te dá esse poder! 😉\n> \n> Curtiu a novidade? Manda aí nos comentários o que você mais espera dessa nova era! 👇\n> \n> #AgentesDeIA #InteligenciaArtificial #MicrosoftBuild #Tecnologia #FuturoDaIA #Alura\n> \n> ---\n> \n> Revise os pontos factuais com atenção, e o post ficará excelente!\n"
          },
          "metadata": {}
        }
      ]
    }
  ]
}