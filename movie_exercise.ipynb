{
  "nbformat": 4,
  "nbformat_minor": 0,
  "metadata": {
    "colab": {
      "provenance": [],
      "authorship_tag": "ABX9TyPbLakVe+u/6WdvJgIqQJcU",
      "include_colab_link": true
    },
    "kernelspec": {
      "name": "python3",
      "display_name": "Python 3"
    },
    "language_info": {
      "name": "python"
    }
  },
  "cells": [
    {
      "cell_type": "markdown",
      "metadata": {
        "id": "view-in-github",
        "colab_type": "text"
      },
      "source": [
        "<a href=\"https://colab.research.google.com/github/tamiresndp/ai_imersion_alura/blob/main/movie_exercise.ipynb\" target=\"_parent\"><img src=\"https://colab.research.google.com/assets/colab-badge.svg\" alt=\"Open In Colab\"/></a>"
      ]
    },
    {
      "cell_type": "code",
      "execution_count": 1,
      "metadata": {
        "colab": {
          "base_uri": "https://localhost:8080/"
        },
        "id": "au4bD5EfhZ7E",
        "outputId": "47b9ab86-7ebc-4633-ddf7-8d3951bc4363"
      },
      "outputs": [
        {
          "output_type": "stream",
          "name": "stdout",
          "text": [
            "Requirement already satisfied: google-genai in /usr/local/lib/python3.11/dist-packages (1.15.0)\n",
            "Requirement already satisfied: anyio<5.0.0,>=4.8.0 in /usr/local/lib/python3.11/dist-packages (from google-genai) (4.9.0)\n",
            "Requirement already satisfied: google-auth<3.0.0,>=2.14.1 in /usr/local/lib/python3.11/dist-packages (from google-genai) (2.38.0)\n",
            "Requirement already satisfied: httpx<1.0.0,>=0.28.1 in /usr/local/lib/python3.11/dist-packages (from google-genai) (0.28.1)\n",
            "Requirement already satisfied: pydantic<3.0.0,>=2.0.0 in /usr/local/lib/python3.11/dist-packages (from google-genai) (2.11.4)\n",
            "Requirement already satisfied: requests<3.0.0,>=2.28.1 in /usr/local/lib/python3.11/dist-packages (from google-genai) (2.32.3)\n",
            "Requirement already satisfied: websockets<15.1.0,>=13.0.0 in /usr/local/lib/python3.11/dist-packages (from google-genai) (15.0.1)\n",
            "Requirement already satisfied: typing-extensions<5.0.0,>=4.11.0 in /usr/local/lib/python3.11/dist-packages (from google-genai) (4.13.2)\n",
            "Requirement already satisfied: idna>=2.8 in /usr/local/lib/python3.11/dist-packages (from anyio<5.0.0,>=4.8.0->google-genai) (3.10)\n",
            "Requirement already satisfied: sniffio>=1.1 in /usr/local/lib/python3.11/dist-packages (from anyio<5.0.0,>=4.8.0->google-genai) (1.3.1)\n",
            "Requirement already satisfied: cachetools<6.0,>=2.0.0 in /usr/local/lib/python3.11/dist-packages (from google-auth<3.0.0,>=2.14.1->google-genai) (5.5.2)\n",
            "Requirement already satisfied: pyasn1-modules>=0.2.1 in /usr/local/lib/python3.11/dist-packages (from google-auth<3.0.0,>=2.14.1->google-genai) (0.4.2)\n",
            "Requirement already satisfied: rsa<5,>=3.1.4 in /usr/local/lib/python3.11/dist-packages (from google-auth<3.0.0,>=2.14.1->google-genai) (4.9.1)\n",
            "Requirement already satisfied: certifi in /usr/local/lib/python3.11/dist-packages (from httpx<1.0.0,>=0.28.1->google-genai) (2025.4.26)\n",
            "Requirement already satisfied: httpcore==1.* in /usr/local/lib/python3.11/dist-packages (from httpx<1.0.0,>=0.28.1->google-genai) (1.0.9)\n",
            "Requirement already satisfied: h11>=0.16 in /usr/local/lib/python3.11/dist-packages (from httpcore==1.*->httpx<1.0.0,>=0.28.1->google-genai) (0.16.0)\n",
            "Requirement already satisfied: annotated-types>=0.6.0 in /usr/local/lib/python3.11/dist-packages (from pydantic<3.0.0,>=2.0.0->google-genai) (0.7.0)\n",
            "Requirement already satisfied: pydantic-core==2.33.2 in /usr/local/lib/python3.11/dist-packages (from pydantic<3.0.0,>=2.0.0->google-genai) (2.33.2)\n",
            "Requirement already satisfied: typing-inspection>=0.4.0 in /usr/local/lib/python3.11/dist-packages (from pydantic<3.0.0,>=2.0.0->google-genai) (0.4.0)\n",
            "Requirement already satisfied: charset-normalizer<4,>=2 in /usr/local/lib/python3.11/dist-packages (from requests<3.0.0,>=2.28.1->google-genai) (3.4.2)\n",
            "Requirement already satisfied: urllib3<3,>=1.21.1 in /usr/local/lib/python3.11/dist-packages (from requests<3.0.0,>=2.28.1->google-genai) (2.4.0)\n",
            "Requirement already satisfied: pyasn1<0.7.0,>=0.6.1 in /usr/local/lib/python3.11/dist-packages (from pyasn1-modules>=0.2.1->google-auth<3.0.0,>=2.14.1->google-genai) (0.6.1)\n"
          ]
        }
      ],
      "source": [
        "! pip install google-genai"
      ]
    },
    {
      "cell_type": "code",
      "source": [
        "import os\n",
        "from google.colab import userdata\n",
        "\n",
        "os.environ['GOOGLE_API_KEY'] = userdata.get('GOOGLE_API_KEY')\n",
        "\n",
        "from google import genai\n",
        "\n",
        "client = genai.Client();"
      ],
      "metadata": {
        "id": "SIswxii5hwvB"
      },
      "execution_count": 3,
      "outputs": []
    },
    {
      "cell_type": "code",
      "source": [
        "for model in client.models.list():\n",
        "  print(model.name);"
      ],
      "metadata": {
        "colab": {
          "base_uri": "https://localhost:8080/"
        },
        "id": "2T79WNaRiEsd",
        "outputId": "bed4484a-0722-4abe-ca87-06185e6f13a0"
      },
      "execution_count": 4,
      "outputs": [
        {
          "output_type": "stream",
          "name": "stdout",
          "text": [
            "models/chat-bison-001\n",
            "models/text-bison-001\n",
            "models/embedding-gecko-001\n",
            "models/gemini-1.0-pro-vision-latest\n",
            "models/gemini-pro-vision\n",
            "models/gemini-1.5-pro-latest\n",
            "models/gemini-1.5-pro-001\n",
            "models/gemini-1.5-pro-002\n",
            "models/gemini-1.5-pro\n",
            "models/gemini-1.5-flash-latest\n",
            "models/gemini-1.5-flash-001\n",
            "models/gemini-1.5-flash-001-tuning\n",
            "models/gemini-1.5-flash\n",
            "models/gemini-1.5-flash-002\n",
            "models/gemini-1.5-flash-8b\n",
            "models/gemini-1.5-flash-8b-001\n",
            "models/gemini-1.5-flash-8b-latest\n",
            "models/gemini-1.5-flash-8b-exp-0827\n",
            "models/gemini-1.5-flash-8b-exp-0924\n",
            "models/gemini-2.5-pro-exp-03-25\n",
            "models/gemini-2.5-pro-preview-03-25\n",
            "models/gemini-2.5-flash-preview-04-17\n",
            "models/gemini-2.5-flash-preview-04-17-thinking\n",
            "models/gemini-2.5-pro-preview-05-06\n",
            "models/gemini-2.0-flash-exp\n",
            "models/gemini-2.0-flash\n",
            "models/gemini-2.0-flash-001\n",
            "models/gemini-2.0-flash-exp-image-generation\n",
            "models/gemini-2.0-flash-lite-001\n",
            "models/gemini-2.0-flash-lite\n",
            "models/gemini-2.0-flash-preview-image-generation\n",
            "models/gemini-2.0-flash-lite-preview-02-05\n",
            "models/gemini-2.0-flash-lite-preview\n",
            "models/gemini-2.0-pro-exp\n",
            "models/gemini-2.0-pro-exp-02-05\n",
            "models/gemini-exp-1206\n",
            "models/gemini-2.0-flash-thinking-exp-01-21\n",
            "models/gemini-2.0-flash-thinking-exp\n",
            "models/gemini-2.0-flash-thinking-exp-1219\n",
            "models/learnlm-2.0-flash-experimental\n",
            "models/gemma-3-1b-it\n",
            "models/gemma-3-4b-it\n",
            "models/gemma-3-12b-it\n",
            "models/gemma-3-27b-it\n",
            "models/embedding-001\n",
            "models/text-embedding-004\n",
            "models/gemini-embedding-exp-03-07\n",
            "models/gemini-embedding-exp\n",
            "models/aqa\n",
            "models/imagen-3.0-generate-002\n",
            "models/veo-2.0-generate-001\n",
            "models/gemini-2.0-flash-live-001\n"
          ]
        }
      ]
    },
    {
      "cell_type": "code",
      "source": [
        "modelo = \"models/gemini-2.0-flash-preview-image-generation\"\n",
        "\n",
        "response = client.models.generate_content(model=modelo, contents=\"Quem é a empresa por trás dos modelos Gemini?\")\n",
        "\n",
        "print(response.text)"
      ],
      "metadata": {
        "colab": {
          "base_uri": "https://localhost:8080/"
        },
        "id": "_NFwPjdEiPkm",
        "outputId": "62580676-7cea-418b-cca1-dbb87e64265a"
      },
      "execution_count": 18,
      "outputs": [
        {
          "output_type": "stream",
          "name": "stdout",
          "text": [
            "A empresa por trás dos modelos Gemini é o **Google**.\n",
            "\n",
            "Mais especificamente, os modelos Gemini foram desenvolvidos pelo **Google DeepMind**, o laboratório de pesquisa em IA do Google, em colaboração com outras equipes dentro da empresa.\n",
            "\n",
            "O Gemini é a família de modelos de IA mais capaz e geral do Google até o momento, projetada para ser multimodal (capaz de entender e operar com diferentes tipos de informação, como texto, código, áudio, imagem e vídeo).\n"
          ]
        }
      ]
    },
    {
      "cell_type": "code",
      "source": [
        "chat = client.chats.create(model=modelo)\n",
        "\n",
        "from google.genai import types\n",
        "\n",
        "chat_config = types.GenerateContentConfig(\n",
        "    system_instruction = \"Você é um assistente pessoal e você sempre responde de forma descontraída e interessante.\",\n",
        "    temperature = 0.5,\n",
        ")\n",
        "\n",
        "chat = client.chats.create(model=modelo, config=chat_config)\n",
        "\n",
        "response = chat.send_message(\"Quais foram os melhores filmes do Oscar 2024?\")\n",
        "\n",
        "response.text\n",
        "\n",
        "prompt = input(\"Esperando promt: \")\n",
        "\n",
        "while prompt != \"fim\":\n",
        "  response = chat.send_message(prompt)\n",
        "  print(\"Resposta: \", response.text)\n",
        "  print(\"\\n\")\n",
        "  prompt = input(\"Esperando promt: \");"
      ],
      "metadata": {
        "colab": {
          "base_uri": "https://localhost:8080/"
        },
        "id": "bbBAUAFCiuC2",
        "outputId": "d81d9cd8-b453-4e1d-e862-e4334cd7851e"
      },
      "execution_count": 20,
      "outputs": [
        {
          "name": "stdout",
          "output_type": "stream",
          "text": [
            "Esperando promt: Quais foram os indicados ao Oscar 2024?\n",
            "Resposta:  Opa! Chegou a hora de desbravar a lista completa dos indicados, porque talento ali não faltou! Foi uma disputa daquelas, com filmes incríveis concorrendo em todas as categorias. Segura essa lista, porque foi BABADO! 🤩\n",
            "\n",
            "Prepare a pipoca (de novo!) e anota aí os principais indicados ao Oscar 2024:\n",
            "\n",
            "**👑 Melhor Filme:**\n",
            "\n",
            "*   **Oppenheimer (VENCEDOR)**\n",
            "*   American Fiction\n",
            "*   Anatomia de uma Queda\n",
            "*   Barbie\n",
            "*   Os Rejeitados\n",
            "*   Assassinos da Lua das Flores\n",
            "*   Maestro\n",
            "*   Vidas Passadas\n",
            "*   Pobres Criaturas\n",
            "*   Zona de Interesse\n",
            "\n",
            "**🎬 Melhor Direção:**\n",
            "\n",
            "*   **Christopher Nolan – Oppenheimer (VENCEDOR)**\n",
            "*   Justine Triet – Anatomia de uma Queda\n",
            "*   Martin Scorsese – Assassinos da Lua das Flores\n",
            "*   Yorgos Lanthimos – Pobres Criaturas\n",
            "*   Jonathan Glazer – Zona de Interesse\n",
            "\n",
            "**👨‍🚀 Melhor Ator:**\n",
            "\n",
            "*   **Cillian Murphy – Oppenheimer (VENCEDOR)**\n",
            "*   Bradley Cooper – Maestro\n",
            "*   Colman Domingo – Rustin\n",
            "*   Paul Giamatti – Os Rejeitados\n",
            "*   Jeffrey Wright – American Fiction\n",
            "\n",
            "**💃 Melhor Atriz:**\n",
            "\n",
            "*   **Emma Stone – Pobres Criaturas (VENCEDORA)**\n",
            "*   Annette Bening – Nyad\n",
            "*   Lily Gladstone – Assassinos da Lua das Flores\n",
            "*   Sandra Hüller – Anatomia de uma Queda\n",
            "*   Carey Mulligan – Maestro\n",
            "\n",
            "**🕺 Melhor Ator Coadjuvante:**\n",
            "\n",
            "*   **Robert Downey Jr. – Oppenheimer (VENCEDOR)**\n",
            "*   Sterling K. Brown – American Fiction\n",
            "*   Robert De Niro – Assassinos da Lua das Flores\n",
            "*   Ryan Gosling – Barbie\n",
            "*   Mark Ruffalo – Pobres Criaturas\n",
            "\n",
            "**💁‍♀️ Melhor Atriz Coadjuvante:**\n",
            "\n",
            "*   **Da'Vine Joy Randolph – Os Rejeitados (VENCEDORA)**\n",
            "*   Emily Blunt – Oppenheimer\n",
            "*   Danielle Brooks – A Cor Púrpura\n",
            "*   America Ferrera – Barbie\n",
            "*   Jodie Foster – Nyad\n",
            "\n",
            "**✍️ Melhor Roteiro Original:**\n",
            "\n",
            "*   **Anatomia de uma Queda – Justine Triet e Arthur Harari (VENCEDORES)**\n",
            "*   Os Rejeitados – David Hemingson\n",
            "*   Maestro – Bradley Cooper e Josh Singer\n",
            "*   Segredos de um Escândalo (May December) – Samy Burch e Alex Mechanik\n",
            "*   Vidas Passadas – Celine Song\n",
            "\n",
            "**📖 Melhor Roteiro Adaptado:**\n",
            "\n",
            "*   **American Fiction – Cord Jefferson (VENCEDOR)**\n",
            "*   Barbie – Greta Gerwig e Noah Baumbach\n",
            "*   Oppenheimer – Christopher Nolan\n",
            "*   Pobres Criaturas – Tony McNamara\n",
            "*   Zona de Interesse – Jonathan Glazer\n",
            "\n",
            "**🌍 Melhor Filme Internacional:**\n",
            "\n",
            "*   **Zona de Interesse (Reino Unido) (VENCEDOR)**\n",
            "*   Io Capitano (Itália)\n",
            "*   Perfect Days (Japão)\n",
            "*   A Sociedade da Neve (Espanha)\n",
            "*   The Teachers' Lounge (Alemanha)\n",
            "\n",
            "**🧸 Melhor Animação:**\n",
            "\n",
            "*   **O Menino e a Garça (VENCEDOR)**\n",
            "*   Elementos\n",
            "*   Nimona\n",
            "*   Robot Dreams\n",
            "*   Homem-Aranha: Através do Aranhaverso\n",
            "\n",
            "**🎶 Melhor Canção Original:**\n",
            "\n",
            "*   **\"What Was I Made For?\" de Barbie – Billie Eilish e Finneas O'Connell (VENCEDORES)**\n",
            "*   \"The Fire Inside\" de Flamin' Hot: O Sabor que Mudou a História – Diane Warren\n",
            "*   \"I'm Just Ken\" de Barbie – Mark Ronson e Andrew Wyatt\n",
            "*   \"It Never Went Away\" de American Symphony – Jon Batiste e Dan Wilson\n",
            "*   \"Wahzhazhe (A Song For My People)\" de Assassinos da Lua das Flores – Scott George\n",
            "\n",
            "Ufa! É filme que não acaba mais, né? E olha que essa é só uma parte! Tem ainda as categorias técnicas como Fotografia, Figurino, Maquiagem e Penteado, Som, Efeitos Visuais, Trilha Sonora... todas recheadas de trabalhos espetaculares.\n",
            "\n",
            "Qual desses já está na sua lista pra ontem? 🧐\n",
            "\n",
            "\n",
            "Esperando promt: fim\n"
          ]
        }
      ]
    }
  ]
}